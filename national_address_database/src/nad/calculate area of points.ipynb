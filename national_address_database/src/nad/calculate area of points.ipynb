{
 "cells": [
  {
   "cell_type": "code",
   "execution_count": 0,
   "metadata": {
    "application/vnd.databricks.v1+cell": {
     "cellMetadata": {
      "byteLimit": 2048000,
      "rowLimit": 10000
     },
     "inputWidgets": {},
     "nuid": "dee32ef7-217e-48a6-b4ac-2d19270b0288",
     "showTitle": true,
     "tableResultSettingsMap": {},
     "title": "Create a SQL View"
    }
   },
   "outputs": [],
   "source": [
    "CREATE OR REPLACE TEMPORARY VIEW ararat AS \n",
    "  SELECT *\n",
    "  FROM usa.geospatial_scott_stafford.virginia_addresses\n",
    "  WHERE county = \"Patrick\" AND city = \"Ararat\""
   ]
  },
  {
   "cell_type": "code",
   "execution_count": 0,
   "metadata": {
    "application/vnd.databricks.v1+cell": {
     "cellMetadata": {
      "byteLimit": 2048000,
      "rowLimit": 10000
     },
     "inputWidgets": {},
     "nuid": "86394e92-37dc-4d8f-99ec-ca7b39d970bd",
     "showTitle": true,
     "tableResultSettingsMap": {},
     "title": "Visualize point map of Ararat city points"
    }
   },
   "outputs": [
    {
     "output_type": "display_data",
     "data": {
      "text/plain": [
       "Databricks visualization. Run in Databricks to view."
      ]
     },
     "metadata": {
      "application/vnd.databricks.v1.subcommand+json": {
       "baseErrorDetails": null,
       "bindings": {},
       "collapsed": false,
       "command": "SELECT *\nFROM ararat",
       "commandTitle": "Visualization 1",
       "commandType": "auto",
       "commandVersion": 0,
       "commentThread": [],
       "commentsVisible": false,
       "contentSha256Hex": null,
       "customPlotOptions": {
        "redashChart": [
         {
          "key": "type",
          "value": "MAP"
         },
         {
          "key": "options",
          "value": {
           "backgroundColor": "#356AFF",
           "borderColor": "#356AFF",
           "bounds": null,
           "clusterMarkers": false,
           "customizeMarkers": false,
           "foregroundColor": "#ffffff",
           "groups": {},
           "iconFont": "circle",
           "iconShape": "marker",
           "latColName": "latitude",
           "lonColName": "longitude",
           "mapTileUrl": "//{s}.tile.openstreetmap.org/{z}/{x}/{y}.png",
           "popup": {
            "enabled": true,
            "template": ""
           },
           "tooltip": {
            "enabled": false,
            "template": ""
           }
          }
         }
        ]
       },
       "datasetPreviewNameToCmdIdMap": {},
       "diffDeletes": [],
       "diffInserts": [],
       "displayType": "redashChart",
       "error": null,
       "errorDetails": null,
       "errorSummary": null,
       "errorTraceType": null,
       "finishTime": 0,
       "globalVars": {},
       "guid": "",
       "height": "auto",
       "hideCommandCode": false,
       "hideCommandResult": false,
       "iPythonMetadata": null,
       "inputWidgets": {},
       "isLockedInExamMode": false,
       "latestUser": "a user",
       "latestUserId": null,
       "listResultMetadata": null,
       "metadata": {
        "byteLimit": 2048000,
        "rowLimit": 10000
       },
       "nuid": "7ea94c70-f8c9-46be-ab85-a87ac200d5c5",
       "origId": 0,
       "parentHierarchy": [],
       "pivotAggregation": null,
       "pivotColumns": null,
       "position": 3.0,
       "resultDbfsErrorMessage": null,
       "resultDbfsStatus": "INLINED_IN_TREE",
       "results": null,
       "showCommandTitle": false,
       "startTime": 0,
       "state": "input",
       "streamStates": {},
       "subcommandOptions": {},
       "submitTime": 0,
       "subtype": "tableResultSubCmd.visualization",
       "tableResultIndex": 0,
       "tableResultSettingsMap": {},
       "useConsistentColors": false,
       "version": "CommandV1",
       "width": "auto",
       "workflows": null,
       "xColumns": null,
       "yColumns": null
      }
     },
     "output_type": "display_data"
    }
   ],
   "source": [
    "SELECT *\n",
    "FROM ararat"
   ]
  },
  {
   "cell_type": "markdown",
   "metadata": {
    "application/vnd.databricks.v1+cell": {
     "cellMetadata": {},
     "inputWidgets": {},
     "nuid": "0a5b55d5-e5ec-4778-b84e-7657de717749",
     "showTitle": false,
     "tableResultSettingsMap": {},
     "title": ""
    }
   },
   "source": [
    "## Bounding Box #1 - North\n",
    "```\n",
    "POLYGON((-81.40170925319939 37.35191384610367,-81.24240749538689 37.35191384610367,-81.24240749538689 37.202207231407264,-81.40170925319939 37.202207231407264,-81.40170925319939 37.35191384610367))\n",
    "```\n",
    "\n",
    "## Bounding Box #2 - South\n",
    "```\n",
    "POLYGON((-80.9095589100976 36.934471869206774,-79.28083576556635 36.934471869206774,-79.28083576556635 36.07790785371659,-80.9095589100976 36.07790785371659,-80.9095589100976 36.934471869206774))\n",
    "```\n"
   ]
  },
  {
   "cell_type": "code",
   "execution_count": 0,
   "metadata": {
    "application/vnd.databricks.v1+cell": {
     "cellMetadata": {
      "byteLimit": 2048000,
      "rowLimit": 10000
     },
     "inputWidgets": {},
     "nuid": "dbdf05e9-fa7f-494a-8c02-503723700f1b",
     "showTitle": true,
     "tableResultSettingsMap": {},
     "title": "Southern cluster of points"
    }
   },
   "outputs": [
    {
     "output_type": "display_data",
     "data": {
      "text/plain": [
       "Databricks visualization. Run in Databricks to view."
      ]
     },
     "metadata": {
      "application/vnd.databricks.v1.subcommand+json": {
       "baseErrorDetails": null,
       "bindings": {},
       "collapsed": false,
       "command": "SELECT *\nFROM ararat\nWHERE \nST_Contains(\n  ST_GeomFromWKT('POLYGON((-80.9095589100976 36.934471869206774,-79.28083576556635 36.934471869206774,-79.28083576556635 36.07790785371659,-80.9095589100976 36.07790785371659,-80.9095589100976 36.934471869206774))'),\n  ST_Point(longitude, latitude)\n) \n",
       "commandTitle": "Visualization 1",
       "commandType": "auto",
       "commandVersion": 0,
       "commentThread": [],
       "commentsVisible": false,
       "contentSha256Hex": null,
       "customPlotOptions": {
        "redashChart": [
         {
          "key": "type",
          "value": "MAP"
         },
         {
          "key": "options",
          "value": {
           "backgroundColor": "#356AFF",
           "borderColor": "#356AFF",
           "bounds": null,
           "clusterMarkers": false,
           "customizeMarkers": false,
           "foregroundColor": "#ffffff",
           "groups": {},
           "iconFont": "circle",
           "iconShape": "marker",
           "latColName": "latitude",
           "lonColName": "longitude",
           "mapTileUrl": "//{s}.tile.openstreetmap.org/{z}/{x}/{y}.png",
           "popup": {
            "enabled": true,
            "template": ""
           },
           "tooltip": {
            "enabled": false,
            "template": ""
           }
          }
         }
        ]
       },
       "datasetPreviewNameToCmdIdMap": {},
       "diffDeletes": [],
       "diffInserts": [],
       "displayType": "redashChart",
       "error": null,
       "errorDetails": null,
       "errorSummary": null,
       "errorTraceType": null,
       "finishTime": 0,
       "globalVars": {},
       "guid": "",
       "height": "auto",
       "hideCommandCode": false,
       "hideCommandResult": false,
       "iPythonMetadata": null,
       "inputWidgets": {},
       "isLockedInExamMode": false,
       "latestUser": "a user",
       "latestUserId": null,
       "listResultMetadata": null,
       "metadata": {
        "byteLimit": 2048000,
        "rowLimit": 10000
       },
       "nuid": "b6969710-984b-4b04-98de-8289d5e8dbf9",
       "origId": 0,
       "parentHierarchy": [],
       "pivotAggregation": null,
       "pivotColumns": null,
       "position": 4.0,
       "resultDbfsErrorMessage": null,
       "resultDbfsStatus": "INLINED_IN_TREE",
       "results": null,
       "showCommandTitle": false,
       "startTime": 0,
       "state": "input",
       "streamStates": {},
       "subcommandOptions": {},
       "submitTime": 0,
       "subtype": "tableResultSubCmd.visualization",
       "tableResultIndex": 0,
       "tableResultSettingsMap": {},
       "useConsistentColors": false,
       "version": "CommandV1",
       "width": "auto",
       "workflows": null,
       "xColumns": null,
       "yColumns": null
      }
     },
     "output_type": "display_data"
    }
   ],
   "source": [
    "SELECT *\n",
    "FROM ararat\n",
    "WHERE \n",
    "ST_Contains(\n",
    "  ST_GeomFromWKT('POLYGON((-80.9095589100976 36.934471869206774,-79.28083576556635 36.934471869206774,-79.28083576556635 36.07790785371659,-80.9095589100976 36.07790785371659,-80.9095589100976 36.934471869206774))'),\n",
    "  ST_Point(longitude, latitude)\n",
    ") \n"
   ]
  },
  {
   "cell_type": "code",
   "execution_count": 0,
   "metadata": {
    "application/vnd.databricks.v1+cell": {
     "cellMetadata": {
      "byteLimit": 2048000,
      "rowLimit": 10000
     },
     "inputWidgets": {},
     "nuid": "fe3e6da1-5dad-49ec-92da-4532d3a423ed",
     "showTitle": true,
     "tableResultSettingsMap": {
      "0": {
       "dataGridStateBlob": "{\"version\":1,\"tableState\":{\"columnPinning\":{\"left\":[\"#row_number#\"],\"right\":[]},\"columnSizing\":{},\"columnVisibility\":{}},\"settings\":{\"columns\":{}},\"syncTimestamp\":1754492271058}",
       "filterBlob": null,
       "queryPlanFiltersBlob": null,
       "tableResultIndex": 0
      }
     },
     "title": "Northern Cluster of points"
    }
   },
   "outputs": [
    {
     "output_type": "display_data",
     "data": {
      "text/plain": [
       "Databricks visualization. Run in Databricks to view."
      ]
     },
     "metadata": {
      "application/vnd.databricks.v1.subcommand+json": {
       "baseErrorDetails": null,
       "bindings": {},
       "collapsed": false,
       "command": "SELECT concat(latitude, \" \", longitude) as point\nFROM ararat\nWHERE \nST_Contains(\n  ST_GeomFromWKT('POLYGON((-81.40170925319939 37.35191384610367,-81.24240749538689 37.35191384610367,-81.24240749538689 37.202207231407264,-81.40170925319939 37.202207231407264,-81.40170925319939 37.35191384610367))'),\n  ST_Point(longitude, latitude)\n)",
       "commandTitle": "Visualization 1",
       "commandType": "auto",
       "commandVersion": 0,
       "commentThread": [],
       "commentsVisible": false,
       "contentSha256Hex": null,
       "customPlotOptions": {
        "redashChart": [
         {
          "key": "type",
          "value": "MAP"
         },
         {
          "key": "options",
          "value": {
           "backgroundColor": "#356AFF",
           "borderColor": "#356AFF",
           "bounds": null,
           "clusterMarkers": false,
           "customizeMarkers": false,
           "foregroundColor": "#ffffff",
           "groups": {},
           "iconFont": "circle",
           "iconShape": "marker",
           "latColName": "latitude",
           "lonColName": "longitude",
           "mapTileUrl": "//{s}.tile.openstreetmap.org/{z}/{x}/{y}.png",
           "popup": {
            "enabled": true,
            "template": ""
           },
           "tooltip": {
            "enabled": false,
            "template": ""
           }
          }
         }
        ]
       },
       "datasetPreviewNameToCmdIdMap": {},
       "diffDeletes": [],
       "diffInserts": [],
       "displayType": "redashChart",
       "error": null,
       "errorDetails": null,
       "errorSummary": null,
       "errorTraceType": null,
       "finishTime": 0,
       "globalVars": {},
       "guid": "",
       "height": "auto",
       "hideCommandCode": false,
       "hideCommandResult": false,
       "iPythonMetadata": null,
       "inputWidgets": {},
       "isLockedInExamMode": false,
       "latestUser": "a user",
       "latestUserId": null,
       "listResultMetadata": null,
       "metadata": {
        "byteLimit": 2048000,
        "rowLimit": 10000
       },
       "nuid": "d53f8fc1-5ffb-48d8-ad91-9daeb454c34d",
       "origId": 0,
       "parentHierarchy": [],
       "pivotAggregation": null,
       "pivotColumns": null,
       "position": 5.0,
       "resultDbfsErrorMessage": null,
       "resultDbfsStatus": "INLINED_IN_TREE",
       "results": null,
       "showCommandTitle": false,
       "startTime": 0,
       "state": "input",
       "streamStates": {},
       "subcommandOptions": {},
       "submitTime": 0,
       "subtype": "tableResultSubCmd.visualization",
       "tableResultIndex": 0,
       "tableResultSettingsMap": {},
       "useConsistentColors": false,
       "version": "CommandV1",
       "width": "auto",
       "workflows": null,
       "xColumns": null,
       "yColumns": null
      }
     },
     "output_type": "display_data"
    }
   ],
   "source": [
    "SELECT *\n",
    "FROM ararat\n",
    "WHERE \n",
    "ST_Contains(\n",
    "  ST_GeomFromWKT('POLYGON((-81.40170925319939 37.35191384610367,-81.24240749538689 37.35191384610367,-81.24240749538689 37.202207231407264,-81.40170925319939 37.202207231407264,-81.40170925319939 37.35191384610367))'),\n",
    "  ST_Point(longitude, latitude)\n",
    ")"
   ]
  },
  {
   "cell_type": "code",
   "execution_count": 0,
   "metadata": {
    "application/vnd.databricks.v1+cell": {
     "cellMetadata": {
      "byteLimit": 2048000,
      "rowLimit": 10000
     },
     "inputWidgets": {},
     "nuid": "69ea5b6a-cc0b-4b99-a189-23baa1e0feee",
     "showTitle": true,
     "tableResultSettingsMap": {
      "0": {
       "dataGridStateBlob": "{\"version\":1,\"tableState\":{\"columnPinning\":{\"left\":[\"#row_number#\"],\"right\":[]},\"columnSizing\":{},\"columnVisibility\":{}},\"settings\":{\"columns\":{}},\"syncTimestamp\":1754492667466}",
       "filterBlob": null,
       "queryPlanFiltersBlob": null,
       "tableResultIndex": 0
      }
     },
     "title": "Area of Northern Cluster"
    }
   },
   "outputs": [],
   "source": [
    "WITH points AS (\n",
    "  SELECT concat(\"MULTIPOINT(\", concat_ws(', ', collect_list(point)), \")\") AS multipoint\n",
    "  FROM (\n",
    "    SELECT concat(latitude, \" \", longitude) as point\n",
    "    FROM ararat\n",
    "    WHERE \n",
    "    ST_Contains(\n",
    "      ST_GeomFromWKT('POLYGON((-81.40170925319939 37.35191384610367,-81.24240749538689 37.35191384610367,-81.24240749538689 37.202207231407264,-81.40170925319939 37.202207231407264,-81.40170925319939 37.35191384610367))'),\n",
    "      ST_Point(longitude, latitude)\n",
    "    )\n",
    "  )\n",
    ")\n",
    "SELECT\n",
    "  ST_Area(\n",
    "    ST_ConvexHull(\n",
    "      ST_GeomFromText(multipoint)\n",
    "    )\n",
    "  ) as area_1\n",
    "FROM points\n",
    "\n"
   ]
  },
  {
   "cell_type": "code",
   "execution_count": 0,
   "metadata": {
    "application/vnd.databricks.v1+cell": {
     "cellMetadata": {
      "byteLimit": 2048000,
      "rowLimit": 10000
     },
     "inputWidgets": {},
     "nuid": "3e1fd23a-5200-4282-a169-64d961634ded",
     "showTitle": true,
     "tableResultSettingsMap": {},
     "title": "Area of the Southern Cluster of points"
    }
   },
   "outputs": [],
   "source": [
    "WITH points AS (\n",
    "  SELECT concat(\"MULTIPOINT(\", concat_ws(', ', collect_list(point)), \")\") AS multipoint\n",
    "  FROM (\n",
    "    SELECT concat(latitude, \" \", longitude) as point\n",
    "    FROM ararat\n",
    "    WHERE \n",
    "    ST_Contains(\n",
    "      ST_GeomFromWKT('POLYGON((-80.9095589100976 36.934471869206774,-79.28083576556635 36.934471869206774,-79.28083576556635 36.07790785371659,-80.9095589100976 36.07790785371659,-80.9095589100976 36.934471869206774))'),\n",
    "      ST_Point(longitude, latitude)\n",
    "    )\n",
    "  )\n",
    ")\n",
    "SELECT\n",
    "  ST_Area(\n",
    "    ST_ConvexHull(\n",
    "      ST_GeomFromText(multipoint)\n",
    "    )\n",
    "  ) / 1000000 AS area_sq_km\n",
    "FROM points"
   ]
  }
 ],
 "metadata": {
  "application/vnd.databricks.v1+notebook": {
   "computePreferences": null,
   "dashboards": [],
   "environmentMetadata": {
    "base_environment": "dbe_65bc13ea-276c-4905-a728-9fe2fb1780e2",
    "environment_version": "2"
   },
   "inputWidgetPreferences": null,
   "language": "sql",
   "notebookMetadata": {
    "pythonIndentUnit": 2
   },
   "notebookName": "calculate area of points",
   "widgets": {}
  },
  "language_info": {
   "name": "sql"
  }
 },
 "nbformat": 4,
 "nbformat_minor": 0
}
