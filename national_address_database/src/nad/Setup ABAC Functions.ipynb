{
 "cells": [
  {
   "cell_type": "code",
   "execution_count": 0,
   "metadata": {
    "application/vnd.databricks.v1+cell": {
     "cellMetadata": {
      "byteLimit": 2048000,
      "rowLimit": 10000
     },
     "inputWidgets": {},
     "nuid": "f69cd80b-b8e7-476a-a6fb-ccadad0c2f8c",
     "showTitle": true,
     "tableResultSettingsMap": {},
     "title": "Get the catalog and schema"
    }
   },
   "outputs": [],
   "source": [
    "USE CATALOG IDENTIFIER(:catalog);\n",
    "USE SCHEMA IDENTIFIER(:schema);"
   ]
  },
  {
   "cell_type": "code",
   "execution_count": 0,
   "metadata": {
    "application/vnd.databricks.v1+cell": {
     "cellMetadata": {
      "byteLimit": 2048000,
      "rowLimit": 10000
     },
     "inputWidgets": {},
     "nuid": "84503d07-ceaa-4b78-a5cd-d8869379d8dd",
     "showTitle": true,
     "tableResultSettingsMap": {},
     "title": "Table level tags"
    }
   },
   "outputs": [],
   "source": [
    "-- Add the geo tag to silver table\n",
    "ALTER TABLE silver_national_address\n",
    "SET TAGS ('geo' = 'point');\n",
    "\n",
    "-- Add the geo tag to virginia addresses\n",
    "ALTER TABLE virginia_addresses\n",
    "SET TAGS ('geo' = 'point');"
   ]
  },
  {
   "cell_type": "code",
   "execution_count": 0,
   "metadata": {
    "application/vnd.databricks.v1+cell": {
     "cellMetadata": {
      "byteLimit": 2048000,
      "rowLimit": 10000
     },
     "inputWidgets": {},
     "nuid": "e68e4b0d-74e0-4df8-8975-9b25111363ba",
     "showTitle": true,
     "tableResultSettingsMap": {},
     "title": "Define the row filter function"
    }
   },
   "outputs": [],
   "source": [
    "CREATE OR REPLACE FUNCTION is_not_city_of_floyd(city STRING)\n",
    "RETURNS BOOLEAN\n",
    "LANGUAGE SQL\n",
    "RETURN NOT(city = 'Floyd');"
   ]
  },
  {
   "cell_type": "code",
   "execution_count": 0,
   "metadata": {
    "application/vnd.databricks.v1+cell": {
     "cellMetadata": {
      "byteLimit": 2048000,
      "rowLimit": 10000
     },
     "inputWidgets": {},
     "nuid": "dfa45265-8379-4a4f-a441-ee90c5cc5469",
     "showTitle": true,
     "tableResultSettingsMap": {},
     "title": "Tag the street name columns"
    }
   },
   "outputs": [],
   "source": [
    "ALTER TABLE silver_national_address\n",
    "ALTER COLUMN street_name\n",
    "SET TAGS ('geo' = 'street_name');\n"
   ]
  },
  {
   "cell_type": "code",
   "execution_count": 0,
   "metadata": {
    "application/vnd.databricks.v1+cell": {
     "cellMetadata": {
      "byteLimit": 2048000,
      "rowLimit": 10000
     },
     "inputWidgets": {},
     "nuid": "8be65e8b-9bfc-47fe-a4fd-31089e8fc130",
     "showTitle": true,
     "tableResultSettingsMap": {},
     "title": "Define the column masking function"
    }
   },
   "outputs": [],
   "source": [
    "CREATE OR REPLACE FUNCTION mask_street(street_name STRING)\n",
    "RETURN '123 **** Street' ;"
   ]
  },
  {
   "cell_type": "code",
   "execution_count": 0,
   "metadata": {
    "application/vnd.databricks.v1+cell": {
     "cellMetadata": {
      "byteLimit": 2048000,
      "rowLimit": 10000
     },
     "inputWidgets": {},
     "nuid": "6fa99088-6a02-4782-aec3-93b7645f448f",
     "showTitle": false,
     "tableResultSettingsMap": {},
     "title": ""
    }
   },
   "outputs": [],
   "source": [
    "CREATE POLICY exclude_addresses_1\n",
    "ON SCHEMA usa.geospatial_scott_stafford\n",
    "COMMENT 'Hide rows with a city equal to the exclusion list'\n",
    "ROW FILTER is_not_city_of_floyd\n",
    "TO ALL USERS\n",
    "FOR TABLES \n",
    "  WHEN has_tag('geo');\n"
   ]
  }
 ],
 "metadata": {
  "application/vnd.databricks.v1+notebook": {
   "computePreferences": {
    "hardware": {
     "accelerator": null,
     "gpuPoolId": null,
     "memory": null
    }
   },
   "dashboards": [],
   "environmentMetadata": {
    "base_environment": "dbe_65bc13ea-276c-4905-a728-9fe2fb1780e2",
    "environment_version": "2"
   },
   "inputWidgetPreferences": null,
   "language": "sql",
   "notebookMetadata": {
    "pythonIndentUnit": 2
   },
   "notebookName": "Setup ABAC Functions",
   "widgets": {
    "catalog": {
     "currentValue": "usa",
     "nuid": "55af8a54-a07a-4309-a0de-408793d662c2",
     "typedWidgetInfo": {
      "autoCreated": true,
      "defaultValue": "",
      "label": null,
      "name": "catalog",
      "options": {
       "widgetDisplayType": "Text",
       "validationRegex": null
      },
      "parameterDataType": "String"
     },
     "widgetInfo": {
      "widgetType": "text",
      "defaultValue": "",
      "label": null,
      "name": "catalog",
      "options": {
       "widgetType": "text",
       "autoCreated": true,
       "validationRegex": null
      }
     }
    },
    "schema": {
     "currentValue": "geospatial_scott_stafford",
     "nuid": "611014b2-faa5-450e-9638-05d62cdb73ef",
     "typedWidgetInfo": {
      "autoCreated": true,
      "defaultValue": "",
      "label": null,
      "name": "schema",
      "options": {
       "widgetDisplayType": "Text",
       "validationRegex": null
      },
      "parameterDataType": "String"
     },
     "widgetInfo": {
      "widgetType": "text",
      "defaultValue": "",
      "label": null,
      "name": "schema",
      "options": {
       "widgetType": "text",
       "autoCreated": true,
       "validationRegex": null
      }
     }
    }
   }
  },
  "language_info": {
   "name": "sql"
  }
 },
 "nbformat": 4,
 "nbformat_minor": 0
}
