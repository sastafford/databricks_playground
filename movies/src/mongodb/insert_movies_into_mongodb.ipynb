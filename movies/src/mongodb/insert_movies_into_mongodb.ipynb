{
 "cells": [
  {
   "cell_type": "code",
   "execution_count": 0,
   "metadata": {
    "application/vnd.databricks.v1+cell": {
     "cellMetadata": {
      "byteLimit": 2048000,
      "rowLimit": 10000
     },
     "inputWidgets": {},
     "nuid": "681b746f-b4f2-40b5-a85a-05c5dccd520a",
     "showTitle": false,
     "tableResultSettingsMap": {},
     "title": ""
    }
   },
   "outputs": [],
   "source": [
    "%pip install pymongo faker"
   ]
  },
  {
   "cell_type": "code",
   "execution_count": 0,
   "metadata": {
    "application/vnd.databricks.v1+cell": {
     "cellMetadata": {
      "byteLimit": 2048000,
      "rowLimit": 10000
     },
     "inputWidgets": {},
     "nuid": "77f310dd-4f0c-48b0-be12-26bf730d098b",
     "showTitle": false,
     "tableResultSettingsMap": {},
     "title": ""
    }
   },
   "outputs": [],
   "source": [
    "%restart_python"
   ]
  },
  {
   "cell_type": "code",
   "execution_count": 0,
   "metadata": {
    "application/vnd.databricks.v1+cell": {
     "cellMetadata": {
      "byteLimit": 2048000,
      "rowLimit": 10000
     },
     "inputWidgets": {},
     "nuid": "6f77f3e6-c68a-4161-892f-c044463ddc4e",
     "showTitle": false,
     "tableResultSettingsMap": {},
     "title": ""
    }
   },
   "outputs": [],
   "source": [
    "from pymongo import MongoClient\n",
    "from faker import Faker\n",
    "import random"
   ]
  },
  {
   "cell_type": "code",
   "execution_count": 0,
   "metadata": {
    "application/vnd.databricks.v1+cell": {
     "cellMetadata": {
      "byteLimit": 2048000,
      "rowLimit": 10000
     },
     "inputWidgets": {},
     "nuid": "68d6bb8a-db4a-40ae-921c-bd7920449427",
     "showTitle": false,
     "tableResultSettingsMap": {},
     "title": ""
    }
   },
   "outputs": [],
   "source": [
    "mongodb_username = dbutils.secrets.get(scope=\"movies\", key=\"mongodb_username\")\n",
    "mongodb_password = dbutils.secrets.get(scope=\"movies\", key=\"mongodb_password\")\n",
    "mongodb_uri = dbutils.secrets.get(scope=\"movies\", key=\"mongodb_uri\")"
   ]
  },
  {
   "cell_type": "code",
   "execution_count": 0,
   "metadata": {
    "application/vnd.databricks.v1+cell": {
     "cellMetadata": {
      "byteLimit": 2048000,
      "rowLimit": 10000
     },
     "inputWidgets": {},
     "nuid": "d62c509a-7615-4eff-8c99-92bfb6ec8696",
     "showTitle": false,
     "tableResultSettingsMap": {},
     "title": ""
    }
   },
   "outputs": [],
   "source": [
    "uri = \"mongodb+srv://{}:{}@{}/\".format(mongodb_username, mongodb_password, mongodb_uri)\n",
    "database = \"sample_mflix\"\n",
    "collection = \"movies\"\n"
   ]
  },
  {
   "cell_type": "code",
   "execution_count": 0,
   "metadata": {
    "application/vnd.databricks.v1+cell": {
     "cellMetadata": {
      "byteLimit": 2048000,
      "rowLimit": 10000
     },
     "inputWidgets": {},
     "nuid": "3fe4b25b-b798-4da3-8c5b-ecc7f4d0fed0",
     "showTitle": false,
     "tableResultSettingsMap": {},
     "title": ""
    }
   },
   "outputs": [],
   "source": [
    "def generate_movie_doc(fake: Faker):\n",
    "  plot = fake.text(max_nb_chars=200)\n",
    "  movie_doc = {\n",
    "    \"plot\": plot,\n",
    "    \"genres\": random.sample(\n",
    "        [\"Drama\", \"Comedy\", \"Action\", \"Horror\", \"Thriller\", \"Sci-Fi\", \"Romance\"], \n",
    "        k=random.randint(1, 3)\n",
    "    ),\n",
    "    \"runtime\": 72,\n",
    "    \"cast\": [\n",
    "      \"Douglas Fairbanks\",\n",
    "      \"Eileen Percy\",\n",
    "      \"Calvert Carter\",\n",
    "      \"Charles Stevens\"\n",
    "    ],\n",
    "    \"title\": fake.sentence(nb_words=3),\n",
    "    \"fullplot\": plot,\n",
    "    \"languages\": [\n",
    "      \"English\"\n",
    "    ],\n",
    "    \"released\": {\n",
    "      \"$date\": {\n",
    "        \"$numberLong\": \"-1657497600000\"\n",
    "      }\n",
    "    },\n",
    "    \"directors\": [\n",
    "      fake.name()\n",
    "    ],\n",
    "    \"writers\": [\n",
    "      fake.name(),\n",
    "      fake.name()\n",
    "    ],\n",
    "    \"awards\": {\n",
    "      \"wins\": 1,\n",
    "      \"nominations\": 0,\n",
    "      \"text\": \"1 win.\"\n",
    "    },\n",
    "    \"lastupdated\": \"2015-06-05 00:40:35.137000000\",\n",
    "    \"year\": random.randint(1950, 2025),\n",
    "    \"imdb\": {\n",
    "      \"rating\": 6.9,\n",
    "      \"votes\": 388,\n",
    "      \"id\": 8775\n",
    "    },\n",
    "    \"countries\": [\n",
    "      \"USA\"\n",
    "    ],\n",
    "    \"type\": \"movie\",\n",
    "    \"num_mflix_comments\": -1\n",
    "  }\n",
    "  return movie_doc\n"
   ]
  },
  {
   "cell_type": "code",
   "execution_count": 0,
   "metadata": {
    "application/vnd.databricks.v1+cell": {
     "cellMetadata": {
      "byteLimit": 2048000,
      "rowLimit": 10000
     },
     "inputWidgets": {},
     "nuid": "64dec328-e8cd-4129-85c5-a2d1fa1b6af8",
     "showTitle": false,
     "tableResultSettingsMap": {},
     "title": ""
    }
   },
   "outputs": [],
   "source": [
    "# Connect to the MongoDB server (adjust the URI as needed)\n",
    "client = MongoClient(uri)\n",
    "\n",
    "# Access the database and collection\n",
    "mongo_database = client[database]\n",
    "mongo_collection = mongo_database[collection]\n",
    "\n",
    "# Initialize Faker\n",
    "fake = Faker()\n",
    "\n",
    "movie_doc = generate_movie_doc(fake)\n",
    "print(movie_doc)\n",
    "\n",
    "# Insert the document\n",
    "result = mongo_collection.insert_one(movie_doc)\n",
    "print(\"Inserted document ID:\", result.inserted_id)"
   ]
  }
 ],
 "metadata": {
  "application/vnd.databricks.v1+notebook": {
   "computePreferences": {
    "hardware": {
     "accelerator": null,
     "gpuPoolId": null,
     "memory": null
    }
   },
   "dashboards": [],
   "environmentMetadata": {
    "base_environment": "",
    "environment_version": "3"
   },
   "inputWidgetPreferences": null,
   "language": "python",
   "notebookMetadata": {
    "pythonIndentUnit": 2
   },
   "notebookName": "insert_movies_into_mongodb",
   "widgets": {}
  },
  "language_info": {
   "name": "python"
  }
 },
 "nbformat": 4,
 "nbformat_minor": 0
}
